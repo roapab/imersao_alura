{
  "nbformat": 4,
  "nbformat_minor": 0,
  "metadata": {
    "colab": {
      "provenance": [],
      "authorship_tag": "ABX9TyOoklRMwqzVNFHZw2gOcqpv",
      "include_colab_link": true
    },
    "kernelspec": {
      "name": "python3",
      "display_name": "Python 3"
    },
    "language_info": {
      "name": "python"
    }
  },
  "cells": [
    {
      "cell_type": "markdown",
      "metadata": {
        "id": "view-in-github",
        "colab_type": "text"
      },
      "source": [
        "<a href=\"https://colab.research.google.com/github/roapab/imersao_alura/blob/main/chatbot_Concierge.ipynb\" target=\"_parent\"><img src=\"https://colab.research.google.com/assets/colab-badge.svg\" alt=\"Open In Colab\"/></a>"
      ]
    },
    {
      "cell_type": "markdown",
      "source": [
        "#Importando biblioteca google e travando API KEY"
      ],
      "metadata": {
        "id": "P9B9vx88FgVJ"
      }
    },
    {
      "cell_type": "code",
      "execution_count": null,
      "metadata": {
        "id": "WfvHjEfrCA6v"
      },
      "outputs": [],
      "source": [
        "import google.generativeai as genai\n",
        "from google.colab import userdata\n",
        "api_key = userdata.get('sua_chave')\n",
        "genai.configure(api_key=api_key)\n"
      ]
    },
    {
      "cell_type": "markdown",
      "source": [
        "#Ajustando o modelo e qtd de tokens"
      ],
      "metadata": {
        "id": "DppnrwN7Fy6w"
      }
    },
    {
      "cell_type": "code",
      "source": [
        "model = genai.GenerativeModel(model_name=\"gemini-1.0-pro\",\n",
        "                              generation_config=generation_config,\n",
        "                              safety_settings=safety_settings)\n",
        "generation_config = {\n",
        "  \"temperature\": 1,\n",
        "  \"top_p\": 0.6,\n",
        "  \"top_k\": 0,\n",
        "  \"max_output_tokens\": 450,\n",
        "}"
      ],
      "metadata": {
        "id": "dh2g-JXtFvCh"
      },
      "execution_count": 18,
      "outputs": []
    },
    {
      "cell_type": "markdown",
      "source": [
        "#Indicando as configurações do modelo da IA"
      ],
      "metadata": {
        "id": "k3htHS4sGFsx"
      }
    },
    {
      "cell_type": "code",
      "source": [
        "safety_settings = [\n",
        "  {\n",
        "    \"category\": \"HARM_CATEGORY_HARASSMENT\",\n",
        "    \"threshold\": \"BLOCK_MEDIUM_AND_ABOVE\"\n",
        "  },\n",
        "  {\n",
        "    \"category\": \"HARM_CATEGORY_HATE_SPEECH\",\n",
        "    \"threshold\": \"BLOCK_MEDIUM_AND_ABOVE\"\n",
        "  },\n",
        "  {\n",
        "    \"category\": \"HARM_CATEGORY_SEXUALLY_EXPLICIT\",\n",
        "    \"threshold\": \"BLOCK_MEDIUM_AND_ABOVE\"\n",
        "  },\n",
        "  {\n",
        "    \"category\": \"HARM_CATEGORY_DANGEROUS_CONTENT\",\n",
        "    \"threshold\": \"BLOCK_MEDIUM_AND_ABOVE\"\n",
        "  },\n",
        "]\n"
      ],
      "metadata": {
        "id": "C5WTZpEEGDeZ"
      },
      "execution_count": 15,
      "outputs": []
    },
    {
      "cell_type": "markdown",
      "source": [
        "# Formatar a pergunta"
      ],
      "metadata": {
        "id": "IqJoh2mjLHWc"
      }
    },
    {
      "cell_type": "code",
      "source": [
        "def formatar_pergunta(pergunta):\n",
        "  return f\"\"\"\n",
        "  ## Contexto: Concierge Residencial\n",
        "\n",
        "  ### Pergunta: {pergunta}\n",
        "\n",
        "  ### Resposta:\n",
        "  \"\"\""
      ],
      "metadata": {
        "id": "AHp5XTQtLCwF"
      },
      "execution_count": 16,
      "outputs": []
    },
    {
      "cell_type": "markdown",
      "source": [
        "#Indicando as instruções da IA"
      ],
      "metadata": {
        "id": "ejZxMsKyGkGd"
      }
    },
    {
      "cell_type": "code",
      "source": [
        "prompt_parts = [\n",
        "  \"perguntas O que é o Concierge Residencial?\",\n",
        "  \"respostas É um serviço completo que auxilia na construção ou reforma da sua casa, desde a busca do imóvel até a decoração final.\",\n",
        "  \"perguntas Como o Concierge Imobiliário funciona?\",\n",
        "  \"respostas Especialistas em mercado imobiliário ajudam a encontrar o terreno ou imóvel ideal, considerando suas necessidades e orçamento.\",\n",
        "  \"perguntas Quem desenvolve os projetos?\",\n",
        "  \"respostas Arquitetos, designers de interiores e engenheiros criam um projeto personalizado para sua casa.\",\n",
        "  \"perguntas O que incluem os projetos completos?\",\n",
        "  \"respostas Plantas, perspectivas 3D, projetos complementares (elétrica, hidráulica, etc.) e até mesmo paisagismo.\",\n",
        "  \"perguntas Como funciona o gerenciamento de obras?\",\n",
        "  \"respostas A equipe cuida da contratação de mão de obra, compra de materiais, cronograma, orçamento e qualidade da construção.\",\n",
        "  \"perguntas Posso personalizar a decoração?\",\n",
        "  \"respostas Sim, o  Concierge Residencial auxilia na escolha de móveis, objetos e acabamentos que  combinam com seu estilo e o projeto de interiores.\",\n",
        "  \"perguntas Quais as vantagens do serviço?\",\n",
        "  \"respostas Tranquilidade, expertise profissional, personalização, economia de tempo e dinheiro.\",\n",
        "  \"perguntas O serviço é adequado para reformas?\",\n",
        "  \"respostas Sim, o Concierge Residencial atende tanto construções novas quanto reformas de casas ou apartamentos.\",\n",
        "  \"perguntas Tenho que adquirir um pacote completo?\",\n",
        "  \"respostas Não, você pode contratar serviços individualmente, como somente a consultoria imobiliária ou o gerenciamento de obras.\",\n",
        "  \"perguntas Quanto custa o serviço?\",\n",
        "  \"respostas O valor varia de acordo com o escopo do projeto e os serviços contratados. Entre em contato para um orçamento personalizado.\",\n",
        "  \"perguntas Qual o prazo de um projeto?\",\n",
        "  \"respostas O prazo depende do tamanho e complexidade do projeto. A equipe fornece uma estimativa após a avaliação inicial.\",\n",
        "  \"perguntas Posso acompanhar o andamento da obra?\",\n",
        "  \"respostas Sim, você terá acesso a relatórios regulares, ao grupo de WhatsApp da obra e poderá visitar a obra para acompanhar o progresso.\",\n",
        "  \"perguntas Vocês trabalham com fornecedores específicos?\",\n",
        "  \"respostas A equipe possui uma rede de fornecedores confiáveis, mas você também pode indicar seus próprios fornecedores, se preferir.\",\n",
        "  \"perguntas O que acontece se eu precisar de alterações no projeto?\",\n",
        "  \"respostas A equipe está preparada para lidar com alterações, desde que sejam viáveis e dentro do orçamento.\",\n",
        "  \"perguntas O que acontece se a obra atrasar?\",\n",
        "  \"respostas A equipe se esforça para cumprir os prazos, mas imprevistos podem acontecer. Você será informado sobre qualquer atraso e as medidas tomadas para solucioná-lo.\",\n",
        "  \"perguntas Vocês oferecem garantia?\",\n",
        "  \"respostas Sim, a R.A.V. Projects oferece garantia sobre os serviços prestados e a qualidade da construção.\",\n",
        "  \"perguntas O serviço está disponível em outras cidades?\",\n",
        "  \"respostas Atualmente, o Concierge Residencial atende Bragantina e Campineira do estado de São Paulo. Entre em contato para verificar a possibilidade de atendimento em outras localidades.\",\n",
        "  \"perguntas Como faço para contratar o serviço?\",\n",
        "  \"respostas Entre em contato com a R.A.V. Projects para agendar uma consulta gratuita e discutir seu projeto.\",\n",
        "  \"perguntas Vocês têm exemplos de projetos realizados?\",\n",
        "  \"respostas Sim, visite nosso site ou redes sociais para ver fotos e vídeos de projetos concluídos e que foram cedidos pelos proprietários para serem divulgados. Todos nossos projetos são regidos pela norma de confidencialidade.\",\n",
        "  \"perguntas \",\n",
        "  \"respostas \",\n",
        "]\n",
        "# Analizando o entendimento da AI\n",
        "response = model.generate_content(prompt_parts)\n",
        "print(response.text)"
      ],
      "metadata": {
        "colab": {
          "base_uri": "https://localhost:8080/",
          "height": 315
        },
        "id": "kqOWuifwGio3",
        "outputId": "5a3540cf-1278-4965-c5ce-a93c8da78ef5"
      },
      "execution_count": null,
      "outputs": [
        {
          "output_type": "stream",
          "name": "stdout",
          "text": [
            "As perguntas e respostas que você listou fornecem uma ótima visão geral do Concierge Residencial! Você organizou a informação de forma clara e concisa, abordando os principais aspectos do serviço.\n",
            "\n",
            "**Algumas sugestões para aprimorar ainda mais:**\n",
            "\n",
            "* **Público-alvo:** Deixe claro para quem o serviço é ideal (famílias, casais, investidores, etc.).\n",
            "* **Diferenciais:** Destaque o que torna esse Concierge Residencial único em relação à concorrência. \n",
            "* **Tecnologia:** Se houver uso de ferramentas digitais para gerenciamento de projetos, visualização 3D ou comunicação, mencione-as.\n",
            "* **Sustentabilidade:** Se o serviço prioriza práticas sustentáveis na construção ou reforma, inclua essa informação.\n",
            "* **Chamadas para ação:** Incentive o leitor a entrar em contato, agendar uma consulta ou visitar o site para mais informações.\n",
            "\n",
            "**Exemplo de frase com chamada para ação:**\n",
            "\n",
            "> **Pronto para construir a casa dos seus sonhos sem estresse? Entre em contato conosco hoje mesmo e agende uma consulta gratuita!**\n",
            "\n",
            "Ao incorporar essas sugestões, você tornará a descrição do serviço ainda mais completa e atrativa para potenciais clientes. 😉 \n",
            "\n"
          ]
        }
      ]
    },
    {
      "cell_type": "markdown",
      "source": [
        "#Inserindo o Loop da conversa"
      ],
      "metadata": {
        "id": "x_OJdGiZHm4s"
      }
    },
    {
      "cell_type": "code",
      "source": [
        "while True:\n",
        "  pergunta = input(\"Entenda como funciona o projeto, faça aqui sua pergunta: \")\n",
        "  if pergunta.lower() == \"fim\":\n",
        "    break\n",
        "  prompt_parts.append(f\"Entenda como funciona o projeto, faça aqui sua pergunta: {pergunta}\")\n",
        "  response = model.generate_content(prompt_parts)\n",
        "  resposta = response.text\n",
        "  print(f\"respostas {resposta}\")\n",
        "  prompt_parts.append(f\"Entenda como funciona o projeto, faça aqui sua pergunta: {resposta}\")"
      ],
      "metadata": {
        "id": "Sm53Ax7dHkiw"
      },
      "execution_count": null,
      "outputs": []
    }
  ]
}